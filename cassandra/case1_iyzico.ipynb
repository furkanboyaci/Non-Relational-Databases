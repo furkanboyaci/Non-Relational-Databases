{
 "cells": [
  {
   "cell_type": "markdown",
   "metadata": {},
   "source": [
    "# Apache Cassandra ile Veri Modelleme"
   ]
  },
  {
   "cell_type": "markdown",
   "source": [
    "## İş Problemi\n",
    "\n",
    "Iyzico internetten alışveriş deneyimini hem alıcılar hem de satıcılar için kolaylaştıran bir finansal\n",
    "teknolojiler şirketidir. E-ticaret firmaları, pazaryerleri ve bireysel kullanıcılar için ödeme altyapısı\n",
    "sağlamaktadır. Elimizdeki veri seti ile geçmişe yönelik sorguların gerçekleştirileceği bir\n",
    "Cassandra veri tabanı kurulmak istenmektedir."
   ],
   "metadata": {
    "collapsed": false,
    "pycharm": {
     "name": "#%% md\n"
    }
   }
  },
  {
   "cell_type": "code",
   "execution_count": 1,
   "metadata": {},
   "outputs": [],
   "source": [
    "import findspark\n",
    "import pandas as pd\n",
    "pd.set_option(\"display.max_columns\", None)\n",
    "pd.set_option('display.max_colwidth', None)\n",
    "import time"
   ]
  },
  {
   "cell_type": "code",
   "execution_count": 81,
   "metadata": {},
   "outputs": [],
   "source": [
    "import warnings\n",
    "from pyspark.sql import SparkSession\n",
    "\n",
    "# Uyarıları engellemek için filtreleme ayarlarını yapılandır\n",
    "warnings.filterwarnings(\"ignore\", category=DeprecationWarning)"
   ]
  },
  {
   "cell_type": "code",
   "execution_count": 2,
   "metadata": {},
   "outputs": [],
   "source": [
    "findspark.init(\"/opt/manual/spark\")\n",
    "\n",
    "from pyspark.sql import SparkSession, functions as F"
   ]
  },
  {
   "cell_type": "code",
   "execution_count": 3,
   "metadata": {},
   "outputs": [],
   "source": [
    "spark = (\n",
    "    SparkSession.builder\n",
    "    .appName(\"Spark-Cassandra-With-Catalog\") \n",
    "    .master(\"local[2]\") \n",
    "    .config(\"spark.driver.memory\",\"2048m\") \n",
    "    .config(\"spark.sql.shuffle.partitions\", 4) \n",
    "    .config(\"spark.serializer\", \"org.apache.spark.serializer.KryoSerializer\")\n",
    "    .config(\"spark.jars.packages\", \"com.datastax.spark:spark-cassandra-connector_2.12:3.0.0\") \n",
    "    .config(\"spark.sql.extensions\",\"com.datastax.spark.connector.CassandraSparkExtensions\")\n",
    "    .config(\"spark.sql.catalog.docker3nodescluster\", \n",
    "            \"com.datastax.spark.connector.datasource.CassandraCatalog\") \n",
    "    .config(\"spark.sql.catalog.docker3nodescluster.spark.cassandra.connection.host\", \n",
    "            \"127.0.0.1\")\n",
    "    .getOrCreate()\n",
    ")\n"
   ]
  },
  {
   "cell_type": "code",
   "execution_count": 4,
   "metadata": {},
   "outputs": [],
   "source": [
    "df = spark.read.format(\"csv\") \\\n",
    ".option(\"header\", True) \\\n",
    ".option(\"sep\", \",\") \\\n",
    ".option(\"inferSchema\", True) \\\n",
    ".option(\"timestampFormat\",\"yyyy-MM-dd HH:mm:ss\") \\\n",
    ".load(\"file:///home/train/datasets/iyzico.csv\") "
   ]
  },
  {
   "cell_type": "code",
   "execution_count": 5,
   "metadata": {},
   "outputs": [
    {
     "data": {
      "text/html": [
       "<div>\n",
       "<style scoped>\n",
       "    .dataframe tbody tr th:only-of-type {\n",
       "        vertical-align: middle;\n",
       "    }\n",
       "\n",
       "    .dataframe tbody tr th {\n",
       "        vertical-align: top;\n",
       "    }\n",
       "\n",
       "    .dataframe thead th {\n",
       "        text-align: right;\n",
       "    }\n",
       "</style>\n",
       "<table border=\"1\" class=\"dataframe\">\n",
       "  <thead>\n",
       "    <tr style=\"text-align: right;\">\n",
       "      <th></th>\n",
       "      <th>iyzico_data.csv\u0000\u0000\u0000\u0000\u0000\u0000\u0000\u0000\u0000\u0000\u0000\u0000\u0000\u0000\u0000\u0000\u0000\u0000\u0000\u0000\u0000\u0000\u0000\u0000\u0000\u0000\u0000\u0000\u0000\u0000\u0000\u0000\u0000\u0000\u0000\u0000\u0000\u0000\u0000\u0000\u0000\u0000\u0000\u0000\u0000\u0000\u0000\u0000\u0000\u0000\u0000\u0000\u0000\u0000\u0000\u0000\u0000\u0000\u0000\u0000\u0000\u0000\u0000\u0000\u0000\u0000\u0000\u0000\u0000\u0000\u0000\u0000\u0000\u0000\u0000\u0000\u0000\u0000\u0000\u0000\u0000\u0000\u0000\u0000\u00000000664\u00000001750\u00000001750\u000004613461137\u000014176564341\u0000013155\u0000 0\u0000\u0000\u0000\u0000\u0000\u0000\u0000\u0000\u0000\u0000\u0000\u0000\u0000\u0000\u0000\u0000\u0000\u0000\u0000\u0000\u0000\u0000\u0000\u0000\u0000\u0000\u0000\u0000\u0000\u0000\u0000\u0000\u0000\u0000\u0000\u0000\u0000\u0000\u0000\u0000\u0000\u0000\u0000\u0000\u0000\u0000\u0000\u0000\u0000\u0000\u0000\u0000\u0000\u0000\u0000\u0000\u0000\u0000\u0000\u0000\u0000\u0000\u0000\u0000\u0000\u0000\u0000\u0000\u0000\u0000\u0000\u0000\u0000\u0000\u0000\u0000\u0000\u0000\u0000\u0000\u0000\u0000\u0000\u0000\u0000\u0000\u0000\u0000\u0000\u0000\u0000\u0000\u0000\u0000\u0000\u0000\u0000\u0000\u0000\u0000ustar  \u0000train\u0000\u0000\u0000\u0000\u0000\u0000\u0000\u0000\u0000\u0000\u0000\u0000\u0000\u0000\u0000\u0000\u0000\u0000\u0000\u0000\u0000\u0000\u0000\u0000\u0000\u0000\u0000train\u0000\u0000\u0000\u0000\u0000\u0000\u0000\u0000\u0000\u0000\u0000\u0000\u0000\u0000\u0000\u0000\u0000\u0000\u0000\u0000\u0000\u0000\u0000\u0000\u0000\u0000\u0000\u0000\u0000\u0000\u0000\u0000\u0000\u0000\u0000\u0000\u0000\u0000\u0000\u0000\u0000\u0000\u0000\u0000\u0000\u0000\u0000\u0000\u0000\u0000\u0000\u0000\u0000\u0000\u0000\u0000\u0000\u0000\u0000\u0000\u0000\u0000\u0000\u0000\u0000\u0000\u0000\u0000\u0000\u0000\u0000\u0000\u0000\u0000\u0000\u0000\u0000\u0000\u0000\u0000\u0000\u0000\u0000\u0000\u0000\u0000\u0000\u0000\u0000\u0000\u0000\u0000\u0000\u0000\u0000\u0000\u0000\u0000\u0000\u0000\u0000\u0000\u0000\u0000\u0000\u0000\u0000\u0000\u0000\u0000\u0000\u0000\u0000\u0000\u0000\u0000\u0000\u0000\u0000\u0000\u0000\u0000\u0000\u0000\u0000\u0000\u0000\u0000\u0000\u0000\u0000\u0000\u0000\u0000\u0000\u0000\u0000\u0000\u0000\u0000\u0000\u0000\u0000\u0000\u0000\u0000\u0000\u0000\u0000\u0000\u0000\u0000\u0000\u0000\u0000\u0000\u0000\u0000\u0000\u0000\u0000\u0000\u0000\u0000\u0000\u0000\u0000\u0000\u0000\u0000\u0000\u0000\u0000\u0000\u0000\u0000\u0000\u0000\u0000\u0000\u0000\u0000\u0000\u0000\u0000\u0000\u0000\u0000\u0000\u0000\u0000\u0000\u0000\u0000\u0000\u0000\u0000\u0000\u0000\u0000\u0000\u0000\u0000\u0000\u0000\u0000\u0000\u0000\u0000\u0000transaction_date</th>\n",
       "      <th>merchant_id</th>\n",
       "      <th>category</th>\n",
       "      <th>total_paid_price</th>\n",
       "    </tr>\n",
       "  </thead>\n",
       "  <tbody>\n",
       "    <tr>\n",
       "      <th>0</th>\n",
       "      <td>2018-01-01 00:00:20.000000</td>\n",
       "      <td>124381</td>\n",
       "      <td>Gündelik Eşya Mağazaları</td>\n",
       "      <td>410.112</td>\n",
       "    </tr>\n",
       "    <tr>\n",
       "      <th>1</th>\n",
       "      <td>2018-01-01 00:01:34.000000</td>\n",
       "      <td>124381</td>\n",
       "      <td>Gündelik Eşya Mağazaları</td>\n",
       "      <td>485.910</td>\n",
       "    </tr>\n",
       "    <tr>\n",
       "      <th>2</th>\n",
       "      <td>2018-01-01 00:02:03.000000</td>\n",
       "      <td>124381</td>\n",
       "      <td>Gündelik Eşya Mağazaları</td>\n",
       "      <td>66.420</td>\n",
       "    </tr>\n",
       "    <tr>\n",
       "      <th>3</th>\n",
       "      <td>2018-01-01 00:04:34.000000</td>\n",
       "      <td>124381</td>\n",
       "      <td>Gündelik Eşya Mağazaları</td>\n",
       "      <td>225.090</td>\n",
       "    </tr>\n",
       "    <tr>\n",
       "      <th>4</th>\n",
       "      <td>2018-01-01 00:04:36.000000</td>\n",
       "      <td>46774</td>\n",
       "      <td>Emlak Ofisleri ve Yöneticileri - Kiralama</td>\n",
       "      <td>479.340</td>\n",
       "    </tr>\n",
       "  </tbody>\n",
       "</table>\n",
       "</div>"
      ],
      "text/plain": [
       "  iyzico_data.csv\u0000\u0000\u0000\u0000\u0000\u0000\u0000\u0000\u0000\u0000\u0000\u0000\u0000\u0000\u0000\u0000\u0000\u0000\u0000\u0000\u0000\u0000\u0000\u0000\u0000\u0000\u0000\u0000\u0000\u0000\u0000\u0000\u0000\u0000\u0000\u0000\u0000\u0000\u0000\u0000\u0000\u0000\u0000\u0000\u0000\u0000\u0000\u0000\u0000\u0000\u0000\u0000\u0000\u0000\u0000\u0000\u0000\u0000\u0000\u0000\u0000\u0000\u0000\u0000\u0000\u0000\u0000\u0000\u0000\u0000\u0000\u0000\u0000\u0000\u0000\u0000\u0000\u0000\u0000\u0000\u0000\u0000\u0000\u0000\u00000000664\u00000001750\u00000001750\u000004613461137\u000014176564341\u0000013155\u0000 0\u0000\u0000\u0000\u0000\u0000\u0000\u0000\u0000\u0000\u0000\u0000\u0000\u0000\u0000\u0000\u0000\u0000\u0000\u0000\u0000\u0000\u0000\u0000\u0000\u0000\u0000\u0000\u0000\u0000\u0000\u0000\u0000\u0000\u0000\u0000\u0000\u0000\u0000\u0000\u0000\u0000\u0000\u0000\u0000\u0000\u0000\u0000\u0000\u0000\u0000\u0000\u0000\u0000\u0000\u0000\u0000\u0000\u0000\u0000\u0000\u0000\u0000\u0000\u0000\u0000\u0000\u0000\u0000\u0000\u0000\u0000\u0000\u0000\u0000\u0000\u0000\u0000\u0000\u0000\u0000\u0000\u0000\u0000\u0000\u0000\u0000\u0000\u0000\u0000\u0000\u0000\u0000\u0000\u0000\u0000\u0000\u0000\u0000\u0000\u0000ustar  \u0000train\u0000\u0000\u0000\u0000\u0000\u0000\u0000\u0000\u0000\u0000\u0000\u0000\u0000\u0000\u0000\u0000\u0000\u0000\u0000\u0000\u0000\u0000\u0000\u0000\u0000\u0000\u0000train\u0000\u0000\u0000\u0000\u0000\u0000\u0000\u0000\u0000\u0000\u0000\u0000\u0000\u0000\u0000\u0000\u0000\u0000\u0000\u0000\u0000\u0000\u0000\u0000\u0000\u0000\u0000\u0000\u0000\u0000\u0000\u0000\u0000\u0000\u0000\u0000\u0000\u0000\u0000\u0000\u0000\u0000\u0000\u0000\u0000\u0000\u0000\u0000\u0000\u0000\u0000\u0000\u0000\u0000\u0000\u0000\u0000\u0000\u0000\u0000\u0000\u0000\u0000\u0000\u0000\u0000\u0000\u0000\u0000\u0000\u0000\u0000\u0000\u0000\u0000\u0000\u0000\u0000\u0000\u0000\u0000\u0000\u0000\u0000\u0000\u0000\u0000\u0000\u0000\u0000\u0000\u0000\u0000\u0000\u0000\u0000\u0000\u0000\u0000\u0000\u0000\u0000\u0000\u0000\u0000\u0000\u0000\u0000\u0000\u0000\u0000\u0000\u0000\u0000\u0000\u0000\u0000\u0000\u0000\u0000\u0000\u0000\u0000\u0000\u0000\u0000\u0000\u0000\u0000\u0000\u0000\u0000\u0000\u0000\u0000\u0000\u0000\u0000\u0000\u0000\u0000\u0000\u0000\u0000\u0000\u0000\u0000\u0000\u0000\u0000\u0000\u0000\u0000\u0000\u0000\u0000\u0000\u0000\u0000\u0000\u0000\u0000\u0000\u0000\u0000\u0000\u0000\u0000\u0000\u0000\u0000\u0000\u0000\u0000\u0000\u0000\u0000\u0000\u0000\u0000\u0000\u0000\u0000\u0000\u0000\u0000\u0000\u0000\u0000\u0000\u0000\u0000\u0000\u0000\u0000\u0000\u0000\u0000\u0000\u0000\u0000\u0000\u0000\u0000\u0000\u0000\u0000\u0000\u0000\u0000transaction_date  \\\n",
       "0                                                                                                                                                                                                                                                                                                                                                                                                                                                                                                                       2018-01-01 00:00:20.000000   \n",
       "1                                                                                                                                                                                                                                                                                                                                                                                                                                                                                                                       2018-01-01 00:01:34.000000   \n",
       "2                                                                                                                                                                                                                                                                                                                                                                                                                                                                                                                       2018-01-01 00:02:03.000000   \n",
       "3                                                                                                                                                                                                                                                                                                                                                                                                                                                                                                                       2018-01-01 00:04:34.000000   \n",
       "4                                                                                                                                                                                                                                                                                                                                                                                                                                                                                                                       2018-01-01 00:04:36.000000   \n",
       "\n",
       "   merchant_id                                   category  total_paid_price  \n",
       "0       124381                   Gündelik Eşya Mağazaları           410.112  \n",
       "1       124381                   Gündelik Eşya Mağazaları           485.910  \n",
       "2       124381                   Gündelik Eşya Mağazaları            66.420  \n",
       "3       124381                   Gündelik Eşya Mağazaları           225.090  \n",
       "4        46774  Emlak Ofisleri ve Yöneticileri - Kiralama           479.340  "
      ]
     },
     "execution_count": 5,
     "metadata": {},
     "output_type": "execute_result"
    }
   ],
   "source": [
    "df.limit(5).toPandas()"
   ]
  },
  {
   "cell_type": "code",
   "execution_count": 6,
   "metadata": {},
   "outputs": [
    {
     "name": "stdout",
     "output_type": "stream",
     "text": [
      "root\n",
      " |-- iyzico_data.csv\u0000\u0000\u0000\u0000\u0000\u0000\u0000\u0000\u0000\u0000\u0000\u0000\u0000\u0000\u0000\u0000\u0000\u0000\u0000\u0000\u0000\u0000\u0000\u0000\u0000\u0000\u0000\u0000\u0000\u0000\u0000\u0000\u0000\u0000\u0000\u0000\u0000\u0000\u0000\u0000\u0000\u0000\u0000\u0000\u0000\u0000\u0000\u0000\u0000\u0000\u0000\u0000\u0000\u0000\u0000\u0000\u0000\u0000\u0000\u0000\u0000\u0000\u0000\u0000\u0000\u0000\u0000\u0000\u0000\u0000\u0000\u0000\u0000\u0000\u0000\u0000\u0000\u0000\u0000\u0000\u0000\u0000\u0000\u0000\u00000000664\u00000001750\u00000001750\u000004613461137\u000014176564341\u0000013155\u0000 0\u0000\u0000\u0000\u0000\u0000\u0000\u0000\u0000\u0000\u0000\u0000\u0000\u0000\u0000\u0000\u0000\u0000\u0000\u0000\u0000\u0000\u0000\u0000\u0000\u0000\u0000\u0000\u0000\u0000\u0000\u0000\u0000\u0000\u0000\u0000\u0000\u0000\u0000\u0000\u0000\u0000\u0000\u0000\u0000\u0000\u0000\u0000\u0000\u0000\u0000\u0000\u0000\u0000\u0000\u0000\u0000\u0000\u0000\u0000\u0000\u0000\u0000\u0000\u0000\u0000\u0000\u0000\u0000\u0000\u0000\u0000\u0000\u0000\u0000\u0000\u0000\u0000\u0000\u0000\u0000\u0000\u0000\u0000\u0000\u0000\u0000\u0000\u0000\u0000\u0000\u0000\u0000\u0000\u0000\u0000\u0000\u0000\u0000\u0000\u0000ustar  \u0000train\u0000\u0000\u0000\u0000\u0000\u0000\u0000\u0000\u0000\u0000\u0000\u0000\u0000\u0000\u0000\u0000\u0000\u0000\u0000\u0000\u0000\u0000\u0000\u0000\u0000\u0000\u0000train\u0000\u0000\u0000\u0000\u0000\u0000\u0000\u0000\u0000\u0000\u0000\u0000\u0000\u0000\u0000\u0000\u0000\u0000\u0000\u0000\u0000\u0000\u0000\u0000\u0000\u0000\u0000\u0000\u0000\u0000\u0000\u0000\u0000\u0000\u0000\u0000\u0000\u0000\u0000\u0000\u0000\u0000\u0000\u0000\u0000\u0000\u0000\u0000\u0000\u0000\u0000\u0000\u0000\u0000\u0000\u0000\u0000\u0000\u0000\u0000\u0000\u0000\u0000\u0000\u0000\u0000\u0000\u0000\u0000\u0000\u0000\u0000\u0000\u0000\u0000\u0000\u0000\u0000\u0000\u0000\u0000\u0000\u0000\u0000\u0000\u0000\u0000\u0000\u0000\u0000\u0000\u0000\u0000\u0000\u0000\u0000\u0000\u0000\u0000\u0000\u0000\u0000\u0000\u0000\u0000\u0000\u0000\u0000\u0000\u0000\u0000\u0000\u0000\u0000\u0000\u0000\u0000\u0000\u0000\u0000\u0000\u0000\u0000\u0000\u0000\u0000\u0000\u0000\u0000\u0000\u0000\u0000\u0000\u0000\u0000\u0000\u0000\u0000\u0000\u0000\u0000\u0000\u0000\u0000\u0000\u0000\u0000\u0000\u0000\u0000\u0000\u0000\u0000\u0000\u0000\u0000\u0000\u0000\u0000\u0000\u0000\u0000\u0000\u0000\u0000\u0000\u0000\u0000\u0000\u0000\u0000\u0000\u0000\u0000\u0000\u0000\u0000\u0000\u0000\u0000\u0000\u0000\u0000\u0000\u0000\u0000\u0000\u0000\u0000\u0000\u0000\u0000\u0000\u0000\u0000\u0000\u0000\u0000\u0000\u0000\u0000\u0000\u0000\u0000\u0000\u0000\u0000\u0000\u0000\u0000transaction_date: string (nullable = true)\n",
      " |-- merchant_id: integer (nullable = true)\n",
      " |-- category: string (nullable = true)\n",
      " |-- total_paid_price: double (nullable = true)\n",
      "\n"
     ]
    }
   ],
   "source": [
    "df.printSchema()"
   ]
  },
  {
   "cell_type": "code",
   "execution_count": 7,
   "metadata": {},
   "outputs": [],
   "source": [
    "from pyspark.sql.functions import col, to_timestamp\n",
    "\n",
    "df = df.withColumnRenamed(df.columns[0], \"transaction_date\")\n",
    "df = df.withColumn(\"transaction_date\", to_timestamp(df[\"transaction_date\"], \"yyyy-MM-dd HH:mm:ss.SSSSSS\"))"
   ]
  },
  {
   "cell_type": "code",
   "execution_count": 8,
   "metadata": {
    "scrolled": true
   },
   "outputs": [
    {
     "data": {
      "text/html": [
       "<div>\n",
       "<style scoped>\n",
       "    .dataframe tbody tr th:only-of-type {\n",
       "        vertical-align: middle;\n",
       "    }\n",
       "\n",
       "    .dataframe tbody tr th {\n",
       "        vertical-align: top;\n",
       "    }\n",
       "\n",
       "    .dataframe thead th {\n",
       "        text-align: right;\n",
       "    }\n",
       "</style>\n",
       "<table border=\"1\" class=\"dataframe\">\n",
       "  <thead>\n",
       "    <tr style=\"text-align: right;\">\n",
       "      <th></th>\n",
       "      <th>transaction_date</th>\n",
       "      <th>merchant_id</th>\n",
       "      <th>category</th>\n",
       "      <th>total_paid_price</th>\n",
       "    </tr>\n",
       "  </thead>\n",
       "  <tbody>\n",
       "    <tr>\n",
       "      <th>0</th>\n",
       "      <td>2018-01-01 00:00:20</td>\n",
       "      <td>124381</td>\n",
       "      <td>Gündelik Eşya Mağazaları</td>\n",
       "      <td>410.112</td>\n",
       "    </tr>\n",
       "    <tr>\n",
       "      <th>1</th>\n",
       "      <td>2018-01-01 00:01:34</td>\n",
       "      <td>124381</td>\n",
       "      <td>Gündelik Eşya Mağazaları</td>\n",
       "      <td>485.910</td>\n",
       "    </tr>\n",
       "    <tr>\n",
       "      <th>2</th>\n",
       "      <td>2018-01-01 00:02:03</td>\n",
       "      <td>124381</td>\n",
       "      <td>Gündelik Eşya Mağazaları</td>\n",
       "      <td>66.420</td>\n",
       "    </tr>\n",
       "    <tr>\n",
       "      <th>3</th>\n",
       "      <td>2018-01-01 00:04:34</td>\n",
       "      <td>124381</td>\n",
       "      <td>Gündelik Eşya Mağazaları</td>\n",
       "      <td>225.090</td>\n",
       "    </tr>\n",
       "    <tr>\n",
       "      <th>4</th>\n",
       "      <td>2018-01-01 00:04:36</td>\n",
       "      <td>46774</td>\n",
       "      <td>Emlak Ofisleri ve Yöneticileri - Kiralama</td>\n",
       "      <td>479.340</td>\n",
       "    </tr>\n",
       "  </tbody>\n",
       "</table>\n",
       "</div>"
      ],
      "text/plain": [
       "     transaction_date  merchant_id                                   category  \\\n",
       "0 2018-01-01 00:00:20       124381                   Gündelik Eşya Mağazaları   \n",
       "1 2018-01-01 00:01:34       124381                   Gündelik Eşya Mağazaları   \n",
       "2 2018-01-01 00:02:03       124381                   Gündelik Eşya Mağazaları   \n",
       "3 2018-01-01 00:04:34       124381                   Gündelik Eşya Mağazaları   \n",
       "4 2018-01-01 00:04:36        46774  Emlak Ofisleri ve Yöneticileri - Kiralama   \n",
       "\n",
       "   total_paid_price  \n",
       "0           410.112  \n",
       "1           485.910  \n",
       "2            66.420  \n",
       "3           225.090  \n",
       "4           479.340  "
      ]
     },
     "execution_count": 8,
     "metadata": {},
     "output_type": "execute_result"
    }
   ],
   "source": [
    "df.limit(5).toPandas()"
   ]
  },
  {
   "cell_type": "code",
   "execution_count": 9,
   "metadata": {},
   "outputs": [
    {
     "data": {
      "text/plain": [
       "8391254"
      ]
     },
     "execution_count": 9,
     "metadata": {},
     "output_type": "execute_result"
    }
   ],
   "source": [
    "df.count()"
   ]
  },
  {
   "cell_type": "code",
   "execution_count": 10,
   "metadata": {},
   "outputs": [
    {
     "name": "stdout",
     "output_type": "stream",
     "text": [
      "+--------------------+-------+\n",
      "|            category|  count|\n",
      "+--------------------+-------+\n",
      "|Endüstriyel Malze...| 840951|\n",
      "|Emlak Ofisleri ve...|1599559|\n",
      "|Profesyonel Hizme...|1302725|\n",
      "|Çeşitli Gıda Mağa...| 440029|\n",
      "|Bilgisayar Yazılı...|1146442|\n",
      "|Gündelik Eşya Mağ...|1935357|\n",
      "|Kadın,Erkek Giyim...|1126191|\n",
      "+--------------------+-------+\n",
      "\n"
     ]
    }
   ],
   "source": [
    "df.groupBy(\"category\").count().show()"
   ]
  },
  {
   "cell_type": "markdown",
   "metadata": {},
   "source": [
    "# Görev 2"
   ]
  },
  {
   "cell_type": "markdown",
   "metadata": {},
   "source": [
    "### Adım 1: Spark versiyonunu gözlemleyiniz."
   ]
  },
  {
   "cell_type": "code",
   "execution_count": 11,
   "metadata": {},
   "outputs": [
    {
     "data": {
      "text/plain": [
       "'3.0.0'"
      ]
     },
     "execution_count": 11,
     "metadata": {},
     "output_type": "execute_result"
    }
   ],
   "source": [
    "spark.version"
   ]
  },
  {
   "cell_type": "markdown",
   "metadata": {},
   "source": [
    "### Adım 2: Notebook üzerinde Spark ile bir keyspace oluşturunuz."
   ]
  },
  {
   "cell_type": "code",
   "execution_count": 12,
   "metadata": {},
   "outputs": [
    {
     "name": "stdout",
     "output_type": "stream",
     "text": [
      "++\n",
      "||\n",
      "++\n",
      "++\n",
      "\n"
     ]
    }
   ],
   "source": [
    "spark.sql(\"CREATE DATABASE IF NOT EXISTS docker3nodescluster.iyzico \\\n",
    "  WITH DBPROPERTIES (class='SimpleStrategy', replication_factor='3')\").show()"
   ]
  },
  {
   "cell_type": "markdown",
   "metadata": {},
   "source": [
    "### Mevcut keyspaceleri gözlemleyiniz. (Terminalde)"
   ]
  },
  {
   "cell_type": "code",
   "execution_count": null,
   "metadata": {},
   "outputs": [],
   "source": [
    "\"\"\"\n",
    "[train@localhost cassandra]$ docker exec -it cas1 bash\n",
    "root@071d6266d13b:/# cqlsh\n",
    "Connected to MyCluster at 127.0.0.1:9042.\n",
    "[cqlsh 5.0.1 | Cassandra 3.11.14 | CQL spec 3.4.4 | Native protocol v4]\n",
    "Use HELP for help.\n",
    "cqlsh> describe keyspaces\n",
    "\n",
    "system_schema  system  system_distributed  retail\n",
    "system_auth    iyzico  system_traces     \n",
    "\n",
    "\"\"\""
   ]
  },
  {
   "cell_type": "markdown",
   "metadata": {},
   "source": [
    "### Eğer keyspaceleri notebook üzerinde görmek isterseniz;"
   ]
  },
  {
   "cell_type": "code",
   "execution_count": 13,
   "metadata": {},
   "outputs": [
    {
     "name": "stderr",
     "output_type": "stream",
     "text": [
      "/home/train/venvspark/lib64/python3.6/site-packages/cassandra/policies.py:25: CryptographyDeprecationWarning: Python 3.6 is no longer supported by the Python core team. Therefore, support for it is deprecated in cryptography. The next release of cryptography will remove support for Python 3.6.\n",
      "  from cryptography.hazmat.primitives import padding\n"
     ]
    },
    {
     "name": "stdout",
     "output_type": "stream",
     "text": [
      "retail\n",
      "system_auth\n",
      "system_schema\n",
      "system_distributed\n",
      "system\n",
      "iyzico\n",
      "system_traces\n"
     ]
    }
   ],
   "source": [
    "from cassandra.cluster import Cluster\n",
    "import warnings\n",
    "warnings.filterwarnings(\"ignore\")\n",
    "\n",
    "# Cassandra bağlantısını oluştur\n",
    "cluster = Cluster(['127.0.0.1'])\n",
    "session = cluster.connect()\n",
    "\n",
    "# Tüm keyspaceleri al\n",
    "keyspaces = session.execute(\"SELECT keyspace_name FROM system_schema.keyspaces\")\n",
    "\n",
    "# KeySpace'leri görüntüle\n",
    "for keyspace in keyspaces:\n",
    "    print(keyspace.keyspace_name)\n"
   ]
  },
  {
   "cell_type": "code",
   "execution_count": 14,
   "metadata": {},
   "outputs": [
    {
     "data": {
      "text/plain": [
       "{'retail': <cassandra.metadata.KeyspaceMetadata at 0x7fb7906e9c50>,\n",
       " 'system_auth': <cassandra.metadata.KeyspaceMetadata at 0x7fb7906e9b70>,\n",
       " 'system_schema': <cassandra.metadata.KeyspaceMetadata at 0x7fb7906a0da0>,\n",
       " 'system_distributed': <cassandra.metadata.KeyspaceMetadata at 0x7fb7906650b8>,\n",
       " 'system': <cassandra.metadata.KeyspaceMetadata at 0x7fb7906658d0>,\n",
       " 'iyzico': <cassandra.metadata.KeyspaceMetadata at 0x7fb7906752b0>,\n",
       " 'system_traces': <cassandra.metadata.KeyspaceMetadata at 0x7fb790675358>}"
      ]
     },
     "execution_count": 14,
     "metadata": {},
     "output_type": "execute_result"
    }
   ],
   "source": [
    "# 2. alternatif\n",
    "cluster.metadata.keyspaces"
   ]
  },
  {
   "cell_type": "markdown",
   "metadata": {},
   "source": [
    "## Görev 3: Çoklanmış kayıtları kontrol etme"
   ]
  },
  {
   "cell_type": "code",
   "execution_count": 15,
   "metadata": {},
   "outputs": [
    {
     "name": "stdout",
     "output_type": "stream",
     "text": [
      "+-------------------+-----------+----------------+-----+\n",
      "|   transaction_date|merchant_id|total_paid_price|count|\n",
      "+-------------------+-----------+----------------+-----+\n",
      "|2019-04-11 03:49:36|        535|           180.0|   11|\n",
      "|2019-04-11 03:49:35|        535|           180.0|   10|\n",
      "|2018-11-22 20:05:13|      42616|          388.71|    7|\n",
      "|2019-11-28 20:05:29|      42616|          244.71|    7|\n",
      "|2019-11-28 20:17:46|      42616|          244.71|    6|\n",
      "|2019-11-28 20:18:04|      42616|          244.71|    6|\n",
      "|2019-11-28 20:10:11|      42616|          244.71|    6|\n",
      "|2020-08-05 12:10:36|      46774|          74.412|    6|\n",
      "|2019-11-28 20:14:07|      42616|          244.71|    6|\n",
      "|2019-11-28 20:15:14|      42616|          244.71|    5|\n",
      "|2019-11-28 20:13:37|      42616|          244.71|    5|\n",
      "|2019-11-28 20:18:18|      42616|          244.71|    5|\n",
      "|2019-11-28 20:31:22|      42616|          287.91|    5|\n",
      "|2018-11-22 20:03:26|      42616|          388.71|    5|\n",
      "|2019-11-28 20:29:13|      42616|          244.71|    5|\n",
      "|2019-11-28 21:24:35|      42616|          287.91|    5|\n",
      "|2020-08-31 12:23:49|      46774|          58.392|    5|\n",
      "|2019-11-28 20:02:02|      42616|          403.11|    5|\n",
      "|2019-11-28 20:18:33|      42616|          187.11|    5|\n",
      "|2019-11-28 20:25:55|      42616|          244.71|    5|\n",
      "+-------------------+-----------+----------------+-----+\n",
      "only showing top 20 rows\n",
      "\n"
     ]
    }
   ],
   "source": [
    "from pyspark.sql.functions import desc\n",
    "df.groupBy('transaction_date', 'merchant_id', 'total_paid_price').count().alias('count')\\\n",
    "    .filter('count > 1').orderBy(desc('count')).show()"
   ]
  },
  {
   "cell_type": "code",
   "execution_count": 16,
   "metadata": {},
   "outputs": [],
   "source": [
    "duplicates = df.groupBy('transaction_date', 'merchant_id', 'total_paid_price').count().alias('count')\\\n",
    "    .filter('count > 1')"
   ]
  },
  {
   "cell_type": "code",
   "execution_count": 17,
   "metadata": {},
   "outputs": [
    {
     "data": {
      "text/plain": [
       "8391254"
      ]
     },
     "execution_count": 17,
     "metadata": {},
     "output_type": "execute_result"
    }
   ],
   "source": [
    "df.count()"
   ]
  },
  {
   "cell_type": "code",
   "execution_count": 18,
   "metadata": {},
   "outputs": [
    {
     "data": {
      "text/plain": [
       "15766"
      ]
     },
     "execution_count": 18,
     "metadata": {},
     "output_type": "execute_result"
    }
   ],
   "source": [
    "duplicates.count()"
   ]
  },
  {
   "cell_type": "code",
   "execution_count": 19,
   "metadata": {},
   "outputs": [],
   "source": [
    "updated_df = df.subtract(duplicates)\n",
    "\n",
    "#Diğer alternatifler\n",
    "\n",
    "#updated_df =df.subtract(duplicates)\n",
    "#updated_df =df.distinct()\n",
    "#updated_df =df.dropDuplicates()\n"
   ]
  },
  {
   "cell_type": "code",
   "execution_count": 20,
   "metadata": {},
   "outputs": [
    {
     "data": {
      "text/plain": [
       "8374318"
      ]
     },
     "execution_count": 20,
     "metadata": {},
     "output_type": "execute_result"
    }
   ],
   "source": [
    "updated_df.count()"
   ]
  },
  {
   "cell_type": "code",
   "execution_count": 21,
   "metadata": {},
   "outputs": [
    {
     "name": "stdout",
     "output_type": "stream",
     "text": [
      "+----------------+-----------+----------------+-----+\n",
      "|transaction_date|merchant_id|total_paid_price|count|\n",
      "+----------------+-----------+----------------+-----+\n",
      "+----------------+-----------+----------------+-----+\n",
      "\n"
     ]
    }
   ],
   "source": [
    "updated_df.groupBy('transaction_date', 'merchant_id', 'total_paid_price').count().alias('count')\\\n",
    "        .filter('count > 1').show()"
   ]
  },
  {
   "cell_type": "markdown",
   "metadata": {},
   "source": [
    "## Görev 4: Spark SQL ile EDA"
   ]
  },
  {
   "cell_type": "markdown",
   "metadata": {},
   "source": [
    "### Adım 1: createOrReplaceTempView ile geçici bir tablo oluşturunuz."
   ]
  },
  {
   "cell_type": "code",
   "execution_count": 22,
   "metadata": {},
   "outputs": [],
   "source": [
    "updated_df.createOrReplaceTempView(\"iyz_temp\")"
   ]
  },
  {
   "cell_type": "code",
   "execution_count": 23,
   "metadata": {},
   "outputs": [
    {
     "name": "stdout",
     "output_type": "stream",
     "text": [
      "+-------------------+-----------+--------------------+----------------+\n",
      "|   transaction_date|merchant_id|            category|total_paid_price|\n",
      "+-------------------+-----------+--------------------+----------------+\n",
      "|2018-01-01 00:31:12|     124381|Gündelik Eşya Mağ...|          66.438|\n",
      "|2018-01-01 00:44:32|     124381|Gündelik Eşya Mağ...|          251.73|\n",
      "|2018-01-01 01:09:28|     124381|Gündelik Eşya Mağ...|           484.2|\n",
      "|2018-01-01 01:52:09|      46774|Emlak Ofisleri ve...|          142.38|\n",
      "|2018-01-01 02:04:00|        535|Profesyonel Hizme...|             5.4|\n",
      "|2018-01-01 09:43:23|     124381|Gündelik Eşya Mağ...|          719.91|\n",
      "|2018-01-01 09:48:28|        535|Profesyonel Hizme...|            36.0|\n",
      "|2018-01-01 10:28:12|        535|Profesyonel Hizme...|            90.0|\n",
      "|2018-01-01 10:32:57|      46774|Emlak Ofisleri ve...|           51.84|\n",
      "|2018-01-01 11:21:34|      46774|Emlak Ofisleri ve...|         1119.15|\n",
      "+-------------------+-----------+--------------------+----------------+\n",
      "\n"
     ]
    }
   ],
   "source": [
    "spark.sql(\"SELECT * FROM iyz_temp LIMIT 10\").show()"
   ]
  },
  {
   "cell_type": "code",
   "execution_count": 24,
   "metadata": {},
   "outputs": [
    {
     "data": {
      "text/html": [
       "<div>\n",
       "<style scoped>\n",
       "    .dataframe tbody tr th:only-of-type {\n",
       "        vertical-align: middle;\n",
       "    }\n",
       "\n",
       "    .dataframe tbody tr th {\n",
       "        vertical-align: top;\n",
       "    }\n",
       "\n",
       "    .dataframe thead th {\n",
       "        text-align: right;\n",
       "    }\n",
       "</style>\n",
       "<table border=\"1\" class=\"dataframe\">\n",
       "  <thead>\n",
       "    <tr style=\"text-align: right;\">\n",
       "      <th></th>\n",
       "      <th>transaction_date</th>\n",
       "      <th>merchant_id</th>\n",
       "      <th>category</th>\n",
       "      <th>total_paid_price</th>\n",
       "    </tr>\n",
       "  </thead>\n",
       "  <tbody>\n",
       "    <tr>\n",
       "      <th>0</th>\n",
       "      <td>2018-01-01 00:31:12</td>\n",
       "      <td>124381</td>\n",
       "      <td>Gündelik Eşya Mağazaları</td>\n",
       "      <td>66.438</td>\n",
       "    </tr>\n",
       "    <tr>\n",
       "      <th>1</th>\n",
       "      <td>2018-01-01 00:44:32</td>\n",
       "      <td>124381</td>\n",
       "      <td>Gündelik Eşya Mağazaları</td>\n",
       "      <td>251.730</td>\n",
       "    </tr>\n",
       "    <tr>\n",
       "      <th>2</th>\n",
       "      <td>2018-01-01 01:09:28</td>\n",
       "      <td>124381</td>\n",
       "      <td>Gündelik Eşya Mağazaları</td>\n",
       "      <td>484.200</td>\n",
       "    </tr>\n",
       "    <tr>\n",
       "      <th>3</th>\n",
       "      <td>2018-01-01 01:52:09</td>\n",
       "      <td>46774</td>\n",
       "      <td>Emlak Ofisleri ve Yöneticileri - Kiralama</td>\n",
       "      <td>142.380</td>\n",
       "    </tr>\n",
       "    <tr>\n",
       "      <th>4</th>\n",
       "      <td>2018-01-01 02:04:00</td>\n",
       "      <td>535</td>\n",
       "      <td>Profesyonel Hizmetler</td>\n",
       "      <td>5.400</td>\n",
       "    </tr>\n",
       "  </tbody>\n",
       "</table>\n",
       "</div>"
      ],
      "text/plain": [
       "     transaction_date  merchant_id                                   category  \\\n",
       "0 2018-01-01 00:31:12       124381                   Gündelik Eşya Mağazaları   \n",
       "1 2018-01-01 00:44:32       124381                   Gündelik Eşya Mağazaları   \n",
       "2 2018-01-01 01:09:28       124381                   Gündelik Eşya Mağazaları   \n",
       "3 2018-01-01 01:52:09        46774  Emlak Ofisleri ve Yöneticileri - Kiralama   \n",
       "4 2018-01-01 02:04:00          535                      Profesyonel Hizmetler   \n",
       "\n",
       "   total_paid_price  \n",
       "0            66.438  \n",
       "1           251.730  \n",
       "2           484.200  \n",
       "3           142.380  \n",
       "4             5.400  "
      ]
     },
     "execution_count": 24,
     "metadata": {},
     "output_type": "execute_result"
    }
   ],
   "source": [
    "updated_df.limit(5).toPandas()"
   ]
  },
  {
   "cell_type": "markdown",
   "metadata": {},
   "source": [
    "### Kaç farklı Merchant Vardır?"
   ]
  },
  {
   "cell_type": "code",
   "execution_count": 25,
   "metadata": {
    "scrolled": true
   },
   "outputs": [
    {
     "name": "stdout",
     "output_type": "stream",
     "text": [
      "+---------------------------+\n",
      "|count(DISTINCT merchant_id)|\n",
      "+---------------------------+\n",
      "|                          7|\n",
      "+---------------------------+\n",
      "\n"
     ]
    }
   ],
   "source": [
    "spark.sql(\"SELECT COUNT(DISTINCT merchant_id) FROM iyz_temp\").show()"
   ]
  },
  {
   "cell_type": "markdown",
   "metadata": {},
   "source": [
    "### Merchant kırılımında transaction sayıları nedir?"
   ]
  },
  {
   "cell_type": "code",
   "execution_count": 26,
   "metadata": {},
   "outputs": [
    {
     "name": "stdout",
     "output_type": "stream",
     "text": [
      "+--------+-----------+\n",
      "|count(1)|merchant_id|\n",
      "+--------+-----------+\n",
      "|  439667|     129316|\n",
      "| 1933755|     124381|\n",
      "|  838645|      86302|\n",
      "| 1145818|      57192|\n",
      "| 1598586|      46774|\n",
      "| 1119318|      42616|\n",
      "| 1298529|        535|\n",
      "+--------+-----------+\n",
      "\n"
     ]
    }
   ],
   "source": [
    "spark.sql(\"SELECT COUNT(*),merchant_id FROM iyz_temp GROUP BY merchant_id ORDER BY 2 DESC\").show()   "
   ]
  },
  {
   "cell_type": "markdown",
   "metadata": {},
   "source": [
    "### Kaç farklı kategori vardır?"
   ]
  },
  {
   "cell_type": "code",
   "execution_count": 27,
   "metadata": {},
   "outputs": [
    {
     "name": "stdout",
     "output_type": "stream",
     "text": [
      "+--------------+\n",
      "|KATEGORISAYISI|\n",
      "+--------------+\n",
      "|             7|\n",
      "+--------------+\n",
      "\n"
     ]
    }
   ],
   "source": [
    "spark.sql(\"SELECT COUNT(DISTINCT category) AS KATEGORISAYISI FROM iyz_temp\").show()"
   ]
  },
  {
   "cell_type": "markdown",
   "metadata": {},
   "source": [
    "### Kategori kırılımında transaction sayıları nedir?"
   ]
  },
  {
   "cell_type": "code",
   "execution_count": 28,
   "metadata": {},
   "outputs": [
    {
     "name": "stdout",
     "output_type": "stream",
     "text": [
      "+-----------+--------------------+\n",
      "|ISLEMSAYISI|            category|\n",
      "+-----------+--------------------+\n",
      "|     838645|Endüstriyel Malze...|\n",
      "|    1598586|Emlak Ofisleri ve...|\n",
      "|    1298529|Profesyonel Hizme...|\n",
      "|     439667|Çeşitli Gıda Mağa...|\n",
      "|    1145818|Bilgisayar Yazılı...|\n",
      "|    1933755|Gündelik Eşya Mağ...|\n",
      "|    1119318|Kadın,Erkek Giyim...|\n",
      "+-----------+--------------------+\n",
      "\n"
     ]
    }
   ],
   "source": [
    "spark.sql(\"SELECT COUNT(*) AS ISLEMSAYISI ,category FROM iyz_temp GROUP BY category\").show()"
   ]
  },
  {
   "cell_type": "markdown",
   "metadata": {},
   "source": [
    "### Günlere göre transaction sayıları nedir, ilk 10 gözlemi listeleyiniz."
   ]
  },
  {
   "cell_type": "code",
   "execution_count": 29,
   "metadata": {},
   "outputs": [
    {
     "name": "stdout",
     "output_type": "stream",
     "text": [
      "+----------+-----------------------+\n",
      "|      date|day_transaction_numbers|\n",
      "+----------+-----------------------+\n",
      "|2019-11-28|                  38807|\n",
      "|2020-11-26|                  38634|\n",
      "|2020-11-27|                  33417|\n",
      "|2020-06-16|                  30254|\n",
      "|2019-11-29|                  24441|\n",
      "|2020-05-06|                  23282|\n",
      "|2020-06-17|                  22933|\n",
      "|2020-05-07|                  22624|\n",
      "|2020-05-05|                  22180|\n",
      "|2020-11-11|                  21549|\n",
      "+----------+-----------------------+\n",
      "\n"
     ]
    }
   ],
   "source": [
    "spark.sql(\"SELECT date_format(transaction_date, 'yyyy-MM-dd') AS date, COUNT(*) AS day_transaction_numbers FROM iyz_temp GROUP BY date ORDER BY day_transaction_numbers DESC LIMIT 10\").show()"
   ]
  },
  {
   "cell_type": "markdown",
   "metadata": {},
   "source": [
    "### Haftanın günlerine göre transaction sayıları nedir?"
   ]
  },
  {
   "cell_type": "code",
   "execution_count": 30,
   "metadata": {},
   "outputs": [],
   "source": [
    "from pyspark.sql.functions import date_format"
   ]
  },
  {
   "cell_type": "code",
   "execution_count": 31,
   "metadata": {},
   "outputs": [
    {
     "name": "stdout",
     "output_type": "stream",
     "text": [
      "+---------+-----------------------+\n",
      "| day_name|day_transaction_numbers|\n",
      "+---------+-----------------------+\n",
      "|   Friday|                1246897|\n",
      "|   Monday|                1311417|\n",
      "|Wednesday|                1298032|\n",
      "| Thursday|                1318480|\n",
      "| Saturday|                1008384|\n",
      "|  Tuesday|                1261709|\n",
      "|   Sunday|                 929399|\n",
      "+---------+-----------------------+\n",
      "\n"
     ]
    }
   ],
   "source": [
    "spark.sql(\"SELECT date_format(transaction_date, 'EEEE') AS day_name,COUNT(*) as day_transaction_numbers FROM iyz_temp GROUP BY day_name\").show()"
   ]
  },
  {
   "cell_type": "markdown",
   "metadata": {},
   "source": [
    "### transaction_date üzerinde kaç farklı gün vardır?"
   ]
  },
  {
   "cell_type": "code",
   "execution_count": 32,
   "metadata": {},
   "outputs": [
    {
     "name": "stdout",
     "output_type": "stream",
     "text": [
      "+----------------------------------------------+\n",
      "|count(DISTINCT CAST(transaction_date AS DATE))|\n",
      "+----------------------------------------------+\n",
      "|                                          1097|\n",
      "+----------------------------------------------+\n",
      "\n"
     ]
    }
   ],
   "source": [
    "spark.sql(\"SELECT COUNT(DISTINCT DATE(transaction_date)) FROM iyz_temp\").show()"
   ]
  },
  {
   "cell_type": "code",
   "execution_count": 33,
   "metadata": {},
   "outputs": [
    {
     "name": "stdout",
     "output_type": "stream",
     "text": [
      "[Row(transaction_date=datetime.datetime(2020, 12, 31, 23, 50, 28), merchant_id=124381, category='Gündelik Eşya Mağazaları', total_paid_price=494.784), Row(transaction_date=datetime.datetime(2020, 12, 31, 23, 51, 18), merchant_id=42616, category='Kadın,Erkek Giyim Magazaları', total_paid_price=359.91), Row(transaction_date=datetime.datetime(2020, 12, 31, 23, 55, 9), merchant_id=124381, category='Gündelik Eşya Mağazaları', total_paid_price=737.982), Row(transaction_date=datetime.datetime(2020, 12, 31, 23, 56, 23), merchant_id=124381, category='Gündelik Eşya Mağazaları', total_paid_price=881.964), Row(transaction_date=datetime.datetime(2020, 12, 31, 23, 57, 35), merchant_id=124381, category='Gündelik Eşya Mağazaları', total_paid_price=719.982)]\n"
     ]
    }
   ],
   "source": [
    "last_5_rows = updated_df.tail(5)\n",
    "print(last_5_rows)"
   ]
  },
  {
   "cell_type": "markdown",
   "metadata": {},
   "source": [
    "### Adım 3: transaction_date sütunundaki gün bilgisi ile trans_day adında yeni bir değişken oluşturunuz."
   ]
  },
  {
   "cell_type": "code",
   "execution_count": 34,
   "metadata": {},
   "outputs": [],
   "source": [
    "df2 = df.withColumn(\"trans_day\" , F.to_date(\"transaction_date\"))"
   ]
  },
  {
   "cell_type": "code",
   "execution_count": 35,
   "metadata": {
    "scrolled": true
   },
   "outputs": [
    {
     "data": {
      "text/html": [
       "<div>\n",
       "<style scoped>\n",
       "    .dataframe tbody tr th:only-of-type {\n",
       "        vertical-align: middle;\n",
       "    }\n",
       "\n",
       "    .dataframe tbody tr th {\n",
       "        vertical-align: top;\n",
       "    }\n",
       "\n",
       "    .dataframe thead th {\n",
       "        text-align: right;\n",
       "    }\n",
       "</style>\n",
       "<table border=\"1\" class=\"dataframe\">\n",
       "  <thead>\n",
       "    <tr style=\"text-align: right;\">\n",
       "      <th></th>\n",
       "      <th>transaction_date</th>\n",
       "      <th>merchant_id</th>\n",
       "      <th>category</th>\n",
       "      <th>total_paid_price</th>\n",
       "      <th>trans_day</th>\n",
       "    </tr>\n",
       "  </thead>\n",
       "  <tbody>\n",
       "    <tr>\n",
       "      <th>0</th>\n",
       "      <td>2018-01-01 00:00:20</td>\n",
       "      <td>124381</td>\n",
       "      <td>Gündelik Eşya Mağazaları</td>\n",
       "      <td>410.112</td>\n",
       "      <td>2018-01-01</td>\n",
       "    </tr>\n",
       "    <tr>\n",
       "      <th>1</th>\n",
       "      <td>2018-01-01 00:01:34</td>\n",
       "      <td>124381</td>\n",
       "      <td>Gündelik Eşya Mağazaları</td>\n",
       "      <td>485.910</td>\n",
       "      <td>2018-01-01</td>\n",
       "    </tr>\n",
       "    <tr>\n",
       "      <th>2</th>\n",
       "      <td>2018-01-01 00:02:03</td>\n",
       "      <td>124381</td>\n",
       "      <td>Gündelik Eşya Mağazaları</td>\n",
       "      <td>66.420</td>\n",
       "      <td>2018-01-01</td>\n",
       "    </tr>\n",
       "    <tr>\n",
       "      <th>3</th>\n",
       "      <td>2018-01-01 00:04:34</td>\n",
       "      <td>124381</td>\n",
       "      <td>Gündelik Eşya Mağazaları</td>\n",
       "      <td>225.090</td>\n",
       "      <td>2018-01-01</td>\n",
       "    </tr>\n",
       "    <tr>\n",
       "      <th>4</th>\n",
       "      <td>2018-01-01 00:04:36</td>\n",
       "      <td>46774</td>\n",
       "      <td>Emlak Ofisleri ve Yöneticileri - Kiralama</td>\n",
       "      <td>479.340</td>\n",
       "      <td>2018-01-01</td>\n",
       "    </tr>\n",
       "  </tbody>\n",
       "</table>\n",
       "</div>"
      ],
      "text/plain": [
       "     transaction_date  merchant_id                                   category  \\\n",
       "0 2018-01-01 00:00:20       124381                   Gündelik Eşya Mağazaları   \n",
       "1 2018-01-01 00:01:34       124381                   Gündelik Eşya Mağazaları   \n",
       "2 2018-01-01 00:02:03       124381                   Gündelik Eşya Mağazaları   \n",
       "3 2018-01-01 00:04:34       124381                   Gündelik Eşya Mağazaları   \n",
       "4 2018-01-01 00:04:36        46774  Emlak Ofisleri ve Yöneticileri - Kiralama   \n",
       "\n",
       "   total_paid_price   trans_day  \n",
       "0           410.112  2018-01-01  \n",
       "1           485.910  2018-01-01  \n",
       "2            66.420  2018-01-01  \n",
       "3           225.090  2018-01-01  \n",
       "4           479.340  2018-01-01  "
      ]
     },
     "execution_count": 35,
     "metadata": {},
     "output_type": "execute_result"
    }
   ],
   "source": [
    "df2.limit(5).toPandas()"
   ]
  },
  {
   "cell_type": "code",
   "execution_count": null,
   "metadata": {},
   "outputs": [],
   "source": [
    "### Adım 4: Eşsiz trans_day ve merchant_id sayısı nedir, inceleyiniz."
   ]
  },
  {
   "cell_type": "code",
   "execution_count": 41,
   "metadata": {},
   "outputs": [
    {
     "data": {
      "text/plain": [
       "1097"
      ]
     },
     "execution_count": 41,
     "metadata": {},
     "output_type": "execute_result"
    }
   ],
   "source": [
    "df2.select(\"trans_day\").distinct().count()"
   ]
  },
  {
   "cell_type": "code",
   "execution_count": 42,
   "metadata": {},
   "outputs": [
    {
     "data": {
      "text/plain": [
       "7"
      ]
     },
     "execution_count": 42,
     "metadata": {},
     "output_type": "execute_result"
    }
   ],
   "source": [
    "df2.select(\"merchant_id\").distinct().count()"
   ]
  },
  {
   "cell_type": "code",
   "execution_count": 43,
   "metadata": {},
   "outputs": [
    {
     "name": "stdout",
     "output_type": "stream",
     "text": [
      "+-----------+\n",
      "|merchant_id|\n",
      "+-----------+\n",
      "|        535|\n",
      "|      42616|\n",
      "|     124381|\n",
      "|      46774|\n",
      "|     129316|\n",
      "|      86302|\n",
      "|      57192|\n",
      "+-----------+\n",
      "\n"
     ]
    }
   ],
   "source": [
    "df2.select(\"merchant_id\").distinct().show()"
   ]
  },
  {
   "cell_type": "markdown",
   "metadata": {},
   "source": [
    "## Görev 5: Spark ile Cassandra Tablosu Yazma"
   ]
  },
  {
   "cell_type": "markdown",
   "metadata": {},
   "source": [
    "### Adım1: Spark ile Cassandra üzerinde oluşturmuş olduğunuz keyspace'i kontrol ediniz."
   ]
  },
  {
   "cell_type": "code",
   "execution_count": 51,
   "metadata": {},
   "outputs": [
    {
     "name": "stdout",
     "output_type": "stream",
     "text": [
      "+------------------+\n",
      "|         namespace|\n",
      "+------------------+\n",
      "|     system_traces|\n",
      "|            iyzico|\n",
      "|            retail|\n",
      "|       system_auth|\n",
      "|system_distributed|\n",
      "|     system_schema|\n",
      "|            system|\n",
      "+------------------+\n",
      "\n"
     ]
    }
   ],
   "source": [
    "spark.sql(\"\"\"\n",
    "SHOW NAMESPACES FROM docker3nodescluster\n",
    "\"\"\").show()"
   ]
  },
  {
   "cell_type": "code",
   "execution_count": 46,
   "metadata": {},
   "outputs": [
    {
     "data": {
      "text/plain": [
       "['transaction_date',\n",
       " 'merchant_id',\n",
       " 'category',\n",
       " 'total_paid_price',\n",
       " 'trans_day']"
      ]
     },
     "execution_count": 46,
     "metadata": {},
     "output_type": "execute_result"
    }
   ],
   "source": [
    "df2.columns"
   ]
  },
  {
   "cell_type": "code",
   "execution_count": 48,
   "metadata": {},
   "outputs": [
    {
     "name": "stdout",
     "output_type": "stream",
     "text": [
      "root\n",
      " |-- transaction_date: timestamp (nullable = true)\n",
      " |-- merchant_id: integer (nullable = true)\n",
      " |-- category: string (nullable = true)\n",
      " |-- total_paid_price: double (nullable = true)\n",
      " |-- trans_day: date (nullable = true)\n",
      "\n"
     ]
    }
   ],
   "source": [
    "df2.printSchema()"
   ]
  },
  {
   "cell_type": "markdown",
   "metadata": {},
   "source": [
    "### Adım2: Aşağıdaki iki önemli iş ihtiyacına uygun şekilde bir tablo oluşturunuz.\n",
    "* Veri seti geriye dönük olarak sorgulanmak isteniyor. Örneğin 2018 yılı 3 Mart\n",
    "* Aynı gün içinde kayıtlara tarih sırasına göre erişme ihtiyacı vardır."
   ]
  },
  {
   "cell_type": "code",
   "execution_count": 88,
   "metadata": {},
   "outputs": [
    {
     "data": {
      "text/plain": [
       "DataFrame[]"
      ]
     },
     "execution_count": 88,
     "metadata": {},
     "output_type": "execute_result"
    }
   ],
   "source": [
    "spark.sql(\"\"\"\n",
    "    CREATE TABLE IF NOT EXISTS docker3nodescluster.iyzico.iyz_cas (\n",
    "        transaction_date timestamp,\n",
    "        merchant_id int,\n",
    "        category string,\n",
    "        total_paid_price double,\n",
    "        trans_day date\n",
    "    )\n",
    "    USING cassandra\n",
    "    PARTITIONED BY (trans_day)\n",
    "    TBLPROPERTIES (\n",
    "        clustering_key='transaction_date.desc, merchant_id.asc',\n",
    "        compaction='{class=SizeTieredCompactionStrategy, bucket_high=1001}'\n",
    "    )\n",
    "\"\"\")\n"
   ]
  },
  {
   "cell_type": "code",
   "execution_count": 130,
   "metadata": {},
   "outputs": [],
   "source": [
    "# terminalde cqlsh ile cassandra tablosunun bilgilerine bakmak için;\n",
    "\n",
    "#cqlsh:iyzico> DESCRIBE TABLE iyz_cas;  "
   ]
  },
  {
   "cell_type": "code",
   "execution_count": 53,
   "metadata": {},
   "outputs": [],
   "source": [
    "#Clustering key, verilerin tabloda nasıl sıralanacağını belirler.\n",
    "#Partition key, verilerin nasıl bölümlere ayrılacağını belirler."
   ]
  },
  {
   "cell_type": "code",
   "execution_count": null,
   "metadata": {},
   "outputs": [],
   "source": [
    "\"\"\"\n",
    "CREATE TABLE IF NOT EXISTS docker3nodescluster.iyzico.iyz_cas:\n",
    "\n",
    "CREATE TABLE ifadesi, yeni bir tablo oluşturulacağını belirtir.\n",
    "IF NOT EXISTS ifadesi, tablonun zaten varsa tekrar oluşturulmamasını sağlar.\n",
    "docker3nodescluster Cassandra kümesinin adını temsil eder.\n",
    "iyzico anahtar alanını temsil eder.\n",
    "iyz_cas tablo adını temsil eder.\n",
    "Tablonun sütunları:\n",
    "\n",
    "transaction_date sütunu, timestamp veri türüne sahip bir zaman damgasıdır.\n",
    "merchant_id sütunu, int veri türüne sahip bir tamsayıdır.\n",
    "category sütunu, string veri türüne sahip bir metin alanıdır.\n",
    "total_paid_price sütunu, double veri türüne sahip bir ondalık sayıdır.\n",
    "trans_day sütunu, date veri türüne sahip bir tarihi temsil eder.\n",
    "USING cassandra:\n",
    "\n",
    "Bu ifade, tablonun Cassandra veritabanında depolanacağını belirtir.\n",
    "PARTITIONED BY (trans_day):\n",
    "\n",
    "Bu ifade, trans_day sütununun tablonun bölümleme sütunu (partitioning column) olarak kullanılacağını belirtir. Veriler, bu sütuna göre dağıtılacak ve bölümlere ayrılacak.\n",
    "TBLPROPERTIES:\n",
    "\n",
    "Bu ifade, tablo özelliklerini belirtir.\n",
    "clustering_key='transaction_date.desc, merchant_id.asc' ifadesi, transaction_date sütununun \n",
    "tablonun kümeleme anahtarı (clustering key) olarak kullanılacağını ve sıralamanın azalan (desc) \n",
    "olacağını belirtir. Ayrıca, merchant_id sütunu da kümeleme anahtarı olarak belirtilir ve sıralama artan (asc) olur.\n",
    "compaction='{class=SizeTieredCompactionStrategy, bucket_high=1001}' ifadesi, tablonun bellek boyutuna \n",
    "dayalı bir birleştirme stratejisi kullanacağını belirtir. Bu strateji, veri bölümlerini birleştirirken \n",
    "belirli bir boyutu hedefler.\n",
    "\"\"\""
   ]
  },
  {
   "cell_type": "code",
   "execution_count": 89,
   "metadata": {},
   "outputs": [
    {
     "data": {
      "text/html": [
       "<div>\n",
       "<style scoped>\n",
       "    .dataframe tbody tr th:only-of-type {\n",
       "        vertical-align: middle;\n",
       "    }\n",
       "\n",
       "    .dataframe tbody tr th {\n",
       "        vertical-align: top;\n",
       "    }\n",
       "\n",
       "    .dataframe thead th {\n",
       "        text-align: right;\n",
       "    }\n",
       "</style>\n",
       "<table border=\"1\" class=\"dataframe\">\n",
       "  <thead>\n",
       "    <tr style=\"text-align: right;\">\n",
       "      <th></th>\n",
       "      <th>trans_day</th>\n",
       "      <th>transaction_date</th>\n",
       "      <th>merchant_id</th>\n",
       "      <th>category</th>\n",
       "      <th>total_paid_price</th>\n",
       "    </tr>\n",
       "  </thead>\n",
       "  <tbody>\n",
       "  </tbody>\n",
       "</table>\n",
       "</div>"
      ],
      "text/plain": [
       "Empty DataFrame\n",
       "Columns: [trans_day, transaction_date, merchant_id, category, total_paid_price]\n",
       "Index: []"
      ]
     },
     "execution_count": 89,
     "metadata": {},
     "output_type": "execute_result"
    }
   ],
   "source": [
    "#Tabloyu oluşturduk.Oluşturulan boş tabloyu cassandradan okuyarak kontrol edelim.\n",
    "df_from_cassandra = spark.read.table(\"docker3nodescluster.iyzico.iyz_cas\")\n",
    "df_from_cassandra.limit(5).toPandas()"
   ]
  },
  {
   "cell_type": "markdown",
   "metadata": {},
   "source": [
    "### Adım 3: Spark ile veriyi bu tabloya yazınız."
   ]
  },
  {
   "cell_type": "code",
   "execution_count": 87,
   "metadata": {},
   "outputs": [
    {
     "name": "stderr",
     "output_type": "stream",
     "text": [
      "WARNING:cassandra.cluster:Cluster.__init__ called with contact_points specified, but no load_balancing_policy. In the next major version, this will raise an error; please specify a load-balancing policy. (contact_points = ['127.0.0.1'], lbp = None)\n",
      "WARNING:cassandra.cluster:Downgrading core protocol version from 66 to 65 for 127.0.0.1:9042. To avoid this, it is best practice to explicitly set Cluster(protocol_version) to the version supported by your cluster. http://datastax.github.io/python-driver/api/cassandra/cluster.html#cassandra.cluster.Cluster.protocol_version\n",
      "WARNING:cassandra.cluster:Downgrading core protocol version from 65 to 5 for 127.0.0.1:9042. To avoid this, it is best practice to explicitly set Cluster(protocol_version) to the version supported by your cluster. http://datastax.github.io/python-driver/api/cassandra/cluster.html#cassandra.cluster.Cluster.protocol_version\n",
      "ERROR:cassandra.connection:Closing connection <AsyncoreConnection(140426376307768) 127.0.0.1:9042> due to protocol error: Error from server: code=000a [Protocol error] message=\"Beta version of the protocol used (5/v5-beta), but USE_BETA flag is unset\"\n",
      "WARNING:cassandra.cluster:Downgrading core protocol version from 5 to 4 for 127.0.0.1:9042. To avoid this, it is best practice to explicitly set Cluster(protocol_version) to the version supported by your cluster. http://datastax.github.io/python-driver/api/cassandra/cluster.html#cassandra.cluster.Cluster.protocol_version\n"
     ]
    },
    {
     "name": "stdout",
     "output_type": "stream",
     "text": [
      "Düğüm Sayısı: 3\n"
     ]
    }
   ],
   "source": [
    "from cassandra.cluster import Cluster\n",
    "\n",
    "# Cassandra bağlantısını oluştur\n",
    "cluster = Cluster(['127.0.0.1'])\n",
    "session = cluster.connect()\n",
    "\n",
    "# Düğüm bilgilerini al\n",
    "metadata = cluster.metadata\n",
    "node_count = len(metadata.all_hosts())\n",
    "\n",
    "print(\"Düğüm Sayısı:\", node_count)"
   ]
  },
  {
   "cell_type": "markdown",
   "metadata": {},
   "source": [
    "* Cassandra tabloma veri yazarken tutarlılık seviyesini ayarını değiştirerek yazma işlemi performansı üzerinde kazanımlar elde edebiliriz.\n",
    "\n",
    "* ONE: Veri yazma veya okuma işlemi için en az bir düğümde tamamlanmalıdır.\n",
    "* LOCAL_QUORUM: Yerel bölge içerisindeki düğümlerin (rack) çoğunluğu tarafından onaylanmalıdır.\n",
    "* QUORUM: Kümedeki düğümlerin (rack) çoğunluğu tarafından onaylanmalıdır.\n",
    "* ALL: Tüm düğümler tarafından onaylanmalıdır."
   ]
  },
  {
   "cell_type": "code",
   "execution_count": null,
   "metadata": {},
   "outputs": [],
   "source": [
    "##0:06:49.339959"
   ]
  },
  {
   "cell_type": "code",
   "execution_count": 91,
   "metadata": {},
   "outputs": [],
   "source": [
    "#spark consistency level'ını ayarlamak için\n",
    "spark.conf.set(\"spark.cassandra.output.consistency.level\" ,\"LOCAL_ONE\")"
   ]
  },
  {
   "cell_type": "code",
   "execution_count": 92,
   "metadata": {},
   "outputs": [
    {
     "name": "stdout",
     "output_type": "stream",
     "text": [
      "0:05:56.732827\n"
     ]
    }
   ],
   "source": [
    "from datetime import datetime\n",
    "\n",
    "start_time = datetime.now()\n",
    "\n",
    "df2.write.mode(\"append\") \\\n",
    "    .format(\"org.apache.spark.sql.cassandra\") \\\n",
    "    .saveAsTable(\"docker3nodescluster.iyzico.iyz_cas\") \n",
    "\n",
    "end_time = datetime.now()\n",
    "\n",
    "print(end_time - start_time)\n"
   ]
  },
  {
   "cell_type": "markdown",
   "metadata": {},
   "source": [
    "## Görev 6: Spark ile Cassandra Tablosunu Okuma"
   ]
  },
  {
   "cell_type": "markdown",
   "metadata": {},
   "source": [
    "### Adım 1: Yazma işleminden sonra Spark ile Cassandra tablosunu okuyunuz.\n",
    "\n",
    "* spark df'i cassandra verisini okurken tablonun metadatalarını getirmez örn; partition_key ya da cluster_key. Bunları terminalde cqlsh da kontrol edebiliriz."
   ]
  },
  {
   "cell_type": "code",
   "execution_count": 99,
   "metadata": {},
   "outputs": [
    {
     "data": {
      "text/html": [
       "<div>\n",
       "<style scoped>\n",
       "    .dataframe tbody tr th:only-of-type {\n",
       "        vertical-align: middle;\n",
       "    }\n",
       "\n",
       "    .dataframe tbody tr th {\n",
       "        vertical-align: top;\n",
       "    }\n",
       "\n",
       "    .dataframe thead th {\n",
       "        text-align: right;\n",
       "    }\n",
       "</style>\n",
       "<table border=\"1\" class=\"dataframe\">\n",
       "  <thead>\n",
       "    <tr style=\"text-align: right;\">\n",
       "      <th></th>\n",
       "      <th>trans_day</th>\n",
       "      <th>transaction_date</th>\n",
       "      <th>merchant_id</th>\n",
       "      <th>category</th>\n",
       "      <th>total_paid_price</th>\n",
       "    </tr>\n",
       "  </thead>\n",
       "  <tbody>\n",
       "    <tr>\n",
       "      <th>0</th>\n",
       "      <td>2018-01-07</td>\n",
       "      <td>2018-01-07 23:58:33</td>\n",
       "      <td>46774</td>\n",
       "      <td>Emlak Ofisleri ve Yöneticileri - Kiralama</td>\n",
       "      <td>277.236</td>\n",
       "    </tr>\n",
       "    <tr>\n",
       "      <th>1</th>\n",
       "      <td>2018-01-07</td>\n",
       "      <td>2018-01-07 23:58:14</td>\n",
       "      <td>124381</td>\n",
       "      <td>Gündelik Eşya Mağazaları</td>\n",
       "      <td>368.478</td>\n",
       "    </tr>\n",
       "    <tr>\n",
       "      <th>2</th>\n",
       "      <td>2018-01-07</td>\n",
       "      <td>2018-01-07 23:58:13</td>\n",
       "      <td>124381</td>\n",
       "      <td>Gündelik Eşya Mağazaları</td>\n",
       "      <td>260.910</td>\n",
       "    </tr>\n",
       "    <tr>\n",
       "      <th>3</th>\n",
       "      <td>2018-01-07</td>\n",
       "      <td>2018-01-07 23:57:58</td>\n",
       "      <td>46774</td>\n",
       "      <td>Emlak Ofisleri ve Yöneticileri - Kiralama</td>\n",
       "      <td>466.344</td>\n",
       "    </tr>\n",
       "    <tr>\n",
       "      <th>4</th>\n",
       "      <td>2018-01-07</td>\n",
       "      <td>2018-01-07 23:57:02</td>\n",
       "      <td>124381</td>\n",
       "      <td>Gündelik Eşya Mağazaları</td>\n",
       "      <td>549.180</td>\n",
       "    </tr>\n",
       "  </tbody>\n",
       "</table>\n",
       "</div>"
      ],
      "text/plain": [
       "    trans_day    transaction_date  merchant_id  \\\n",
       "0  2018-01-07 2018-01-07 23:58:33        46774   \n",
       "1  2018-01-07 2018-01-07 23:58:14       124381   \n",
       "2  2018-01-07 2018-01-07 23:58:13       124381   \n",
       "3  2018-01-07 2018-01-07 23:57:58        46774   \n",
       "4  2018-01-07 2018-01-07 23:57:02       124381   \n",
       "\n",
       "                                    category  total_paid_price  \n",
       "0  Emlak Ofisleri ve Yöneticileri - Kiralama           277.236  \n",
       "1                   Gündelik Eşya Mağazaları           368.478  \n",
       "2                   Gündelik Eşya Mağazaları           260.910  \n",
       "3  Emlak Ofisleri ve Yöneticileri - Kiralama           466.344  \n",
       "4                   Gündelik Eşya Mağazaları           549.180  "
      ]
     },
     "execution_count": 99,
     "metadata": {},
     "output_type": "execute_result"
    }
   ],
   "source": [
    "cassandra_df = spark.read.table(\"docker3nodescluster.iyzico.iyz_cas\")\n",
    "#yukarıda oluşturduğumuz içi boş bu tabloya cassandradan veriyi spark ile alıp okuyalım\n",
    "cassandra_df.limit(5).toPandas()"
   ]
  },
  {
   "cell_type": "markdown",
   "metadata": {},
   "source": [
    "### Adım 2: 2018-01-17 tarihine ait kayıtları ekrana yazdırınız, kaç kayıt olduğunu bulunuz ve sorgunun süresini hesaplayınız."
   ]
  },
  {
   "cell_type": "markdown",
   "metadata": {},
   "source": [
    "Cassandra tablosunu oluştururken partition key olarak trans_day sütununu seçmemiz bu sorgu performansı kapsamında daha hızlı sonuç döndürecektir partiton key olmayan sorguların aksine "
   ]
  },
  {
   "cell_type": "code",
   "execution_count": 107,
   "metadata": {},
   "outputs": [
    {
     "data": {
      "text/html": [
       "<div>\n",
       "<style scoped>\n",
       "    .dataframe tbody tr th:only-of-type {\n",
       "        vertical-align: middle;\n",
       "    }\n",
       "\n",
       "    .dataframe tbody tr th {\n",
       "        vertical-align: top;\n",
       "    }\n",
       "\n",
       "    .dataframe thead th {\n",
       "        text-align: right;\n",
       "    }\n",
       "</style>\n",
       "<table border=\"1\" class=\"dataframe\">\n",
       "  <thead>\n",
       "    <tr style=\"text-align: right;\">\n",
       "      <th></th>\n",
       "      <th>trans_day</th>\n",
       "      <th>transaction_date</th>\n",
       "      <th>merchant_id</th>\n",
       "      <th>category</th>\n",
       "      <th>total_paid_price</th>\n",
       "    </tr>\n",
       "  </thead>\n",
       "  <tbody>\n",
       "    <tr>\n",
       "      <th>0</th>\n",
       "      <td>2018-01-17</td>\n",
       "      <td>2018-01-17 23:59:11</td>\n",
       "      <td>57192</td>\n",
       "      <td>Bilgisayar Yazılım Mağazaları</td>\n",
       "      <td>194.184</td>\n",
       "    </tr>\n",
       "    <tr>\n",
       "      <th>1</th>\n",
       "      <td>2018-01-17</td>\n",
       "      <td>2018-01-17 23:59:01</td>\n",
       "      <td>42616</td>\n",
       "      <td>Kadın,Erkek Giyim Magazaları</td>\n",
       "      <td>138.330</td>\n",
       "    </tr>\n",
       "    <tr>\n",
       "      <th>2</th>\n",
       "      <td>2018-01-17</td>\n",
       "      <td>2018-01-17 23:59:01</td>\n",
       "      <td>124381</td>\n",
       "      <td>Gündelik Eşya Mağazaları</td>\n",
       "      <td>2752.110</td>\n",
       "    </tr>\n",
       "    <tr>\n",
       "      <th>3</th>\n",
       "      <td>2018-01-17</td>\n",
       "      <td>2018-01-17 23:58:53</td>\n",
       "      <td>42616</td>\n",
       "      <td>Kadın,Erkek Giyim Magazaları</td>\n",
       "      <td>138.330</td>\n",
       "    </tr>\n",
       "    <tr>\n",
       "      <th>4</th>\n",
       "      <td>2018-01-17</td>\n",
       "      <td>2018-01-17 23:58:33</td>\n",
       "      <td>124381</td>\n",
       "      <td>Gündelik Eşya Mağazaları</td>\n",
       "      <td>539.820</td>\n",
       "    </tr>\n",
       "    <tr>\n",
       "      <th>5</th>\n",
       "      <td>2018-01-17</td>\n",
       "      <td>2018-01-17 23:58:15</td>\n",
       "      <td>46774</td>\n",
       "      <td>Emlak Ofisleri ve Yöneticileri - Kiralama</td>\n",
       "      <td>160.326</td>\n",
       "    </tr>\n",
       "    <tr>\n",
       "      <th>6</th>\n",
       "      <td>2018-01-17</td>\n",
       "      <td>2018-01-17 23:57:53</td>\n",
       "      <td>57192</td>\n",
       "      <td>Bilgisayar Yazılım Mağazaları</td>\n",
       "      <td>9.792</td>\n",
       "    </tr>\n",
       "    <tr>\n",
       "      <th>7</th>\n",
       "      <td>2018-01-17</td>\n",
       "      <td>2018-01-17 23:57:52</td>\n",
       "      <td>57192</td>\n",
       "      <td>Bilgisayar Yazılım Mağazaları</td>\n",
       "      <td>79.992</td>\n",
       "    </tr>\n",
       "    <tr>\n",
       "      <th>8</th>\n",
       "      <td>2018-01-17</td>\n",
       "      <td>2018-01-17 23:57:47</td>\n",
       "      <td>124381</td>\n",
       "      <td>Gündelik Eşya Mağazaları</td>\n",
       "      <td>539.802</td>\n",
       "    </tr>\n",
       "    <tr>\n",
       "      <th>9</th>\n",
       "      <td>2018-01-17</td>\n",
       "      <td>2018-01-17 23:57:44</td>\n",
       "      <td>57192</td>\n",
       "      <td>Bilgisayar Yazılım Mağazaları</td>\n",
       "      <td>9.792</td>\n",
       "    </tr>\n",
       "  </tbody>\n",
       "</table>\n",
       "</div>"
      ],
      "text/plain": [
       "    trans_day    transaction_date  merchant_id  \\\n",
       "0  2018-01-17 2018-01-17 23:59:11        57192   \n",
       "1  2018-01-17 2018-01-17 23:59:01        42616   \n",
       "2  2018-01-17 2018-01-17 23:59:01       124381   \n",
       "3  2018-01-17 2018-01-17 23:58:53        42616   \n",
       "4  2018-01-17 2018-01-17 23:58:33       124381   \n",
       "5  2018-01-17 2018-01-17 23:58:15        46774   \n",
       "6  2018-01-17 2018-01-17 23:57:53        57192   \n",
       "7  2018-01-17 2018-01-17 23:57:52        57192   \n",
       "8  2018-01-17 2018-01-17 23:57:47       124381   \n",
       "9  2018-01-17 2018-01-17 23:57:44        57192   \n",
       "\n",
       "                                    category  total_paid_price  \n",
       "0              Bilgisayar Yazılım Mağazaları           194.184  \n",
       "1               Kadın,Erkek Giyim Magazaları           138.330  \n",
       "2                   Gündelik Eşya Mağazaları          2752.110  \n",
       "3               Kadın,Erkek Giyim Magazaları           138.330  \n",
       "4                   Gündelik Eşya Mağazaları           539.820  \n",
       "5  Emlak Ofisleri ve Yöneticileri - Kiralama           160.326  \n",
       "6              Bilgisayar Yazılım Mağazaları             9.792  \n",
       "7              Bilgisayar Yazılım Mağazaları            79.992  \n",
       "8                   Gündelik Eşya Mağazaları           539.802  \n",
       "9              Bilgisayar Yazılım Mağazaları             9.792  "
      ]
     },
     "execution_count": 107,
     "metadata": {},
     "output_type": "execute_result"
    }
   ],
   "source": [
    "cassandra_df.filter(cassandra_df.trans_day == \"2018-01-17\").limit(10).toPandas()"
   ]
  },
  {
   "cell_type": "code",
   "execution_count": 109,
   "metadata": {},
   "outputs": [
    {
     "name": "stdout",
     "output_type": "stream",
     "text": [
      "3987\n",
      "0:00:00.144610\n"
     ]
    }
   ],
   "source": [
    "start_time = datetime.now()\n",
    "\n",
    "cassandra_df.filter(cassandra_df.trans_day == \"2018-01-17\").count()\n",
    "\n",
    "end_time = datetime.now()\n",
    "\n",
    "print(cassandra_df.filter(cassandra_df.trans_day == \"2018-01-17\").count())\n",
    "print(end_time - start_time)"
   ]
  },
  {
   "cell_type": "markdown",
   "metadata": {},
   "source": [
    "### Adım 3: category='Bilgisayar Yazılım Mağazaları' olan kayıtları ekrana yazdırınız, kaç kayıt olduğunu bulunuz ve sorgunun süresini hesaplayınız."
   ]
  },
  {
   "cell_type": "code",
   "execution_count": 110,
   "metadata": {},
   "outputs": [
    {
     "data": {
      "text/html": [
       "<div>\n",
       "<style scoped>\n",
       "    .dataframe tbody tr th:only-of-type {\n",
       "        vertical-align: middle;\n",
       "    }\n",
       "\n",
       "    .dataframe tbody tr th {\n",
       "        vertical-align: top;\n",
       "    }\n",
       "\n",
       "    .dataframe thead th {\n",
       "        text-align: right;\n",
       "    }\n",
       "</style>\n",
       "<table border=\"1\" class=\"dataframe\">\n",
       "  <thead>\n",
       "    <tr style=\"text-align: right;\">\n",
       "      <th></th>\n",
       "      <th>trans_day</th>\n",
       "      <th>transaction_date</th>\n",
       "      <th>merchant_id</th>\n",
       "      <th>category</th>\n",
       "      <th>total_paid_price</th>\n",
       "    </tr>\n",
       "  </thead>\n",
       "  <tbody>\n",
       "    <tr>\n",
       "      <th>0</th>\n",
       "      <td>2020-01-22</td>\n",
       "      <td>2020-01-22 23:58:49</td>\n",
       "      <td>57192</td>\n",
       "      <td>Bilgisayar Yazılım Mağazaları</td>\n",
       "      <td>13.446</td>\n",
       "    </tr>\n",
       "    <tr>\n",
       "      <th>1</th>\n",
       "      <td>2020-01-22</td>\n",
       "      <td>2020-01-22 23:58:37</td>\n",
       "      <td>57192</td>\n",
       "      <td>Bilgisayar Yazılım Mağazaları</td>\n",
       "      <td>247.320</td>\n",
       "    </tr>\n",
       "    <tr>\n",
       "      <th>2</th>\n",
       "      <td>2020-01-22</td>\n",
       "      <td>2020-01-22 23:58:29</td>\n",
       "      <td>57192</td>\n",
       "      <td>Bilgisayar Yazılım Mağazaları</td>\n",
       "      <td>77.148</td>\n",
       "    </tr>\n",
       "    <tr>\n",
       "      <th>3</th>\n",
       "      <td>2020-01-22</td>\n",
       "      <td>2020-01-22 23:57:17</td>\n",
       "      <td>57192</td>\n",
       "      <td>Bilgisayar Yazılım Mağazaları</td>\n",
       "      <td>269.244</td>\n",
       "    </tr>\n",
       "    <tr>\n",
       "      <th>4</th>\n",
       "      <td>2020-01-22</td>\n",
       "      <td>2020-01-22 23:56:54</td>\n",
       "      <td>57192</td>\n",
       "      <td>Bilgisayar Yazılım Mağazaları</td>\n",
       "      <td>16.182</td>\n",
       "    </tr>\n",
       "    <tr>\n",
       "      <th>5</th>\n",
       "      <td>2020-01-22</td>\n",
       "      <td>2020-01-22 23:56:00</td>\n",
       "      <td>57192</td>\n",
       "      <td>Bilgisayar Yazılım Mağazaları</td>\n",
       "      <td>86.220</td>\n",
       "    </tr>\n",
       "    <tr>\n",
       "      <th>6</th>\n",
       "      <td>2020-01-22</td>\n",
       "      <td>2020-01-22 23:55:05</td>\n",
       "      <td>57192</td>\n",
       "      <td>Bilgisayar Yazılım Mağazaları</td>\n",
       "      <td>322.092</td>\n",
       "    </tr>\n",
       "    <tr>\n",
       "      <th>7</th>\n",
       "      <td>2020-01-22</td>\n",
       "      <td>2020-01-22 23:54:52</td>\n",
       "      <td>57192</td>\n",
       "      <td>Bilgisayar Yazılım Mağazaları</td>\n",
       "      <td>340.758</td>\n",
       "    </tr>\n",
       "    <tr>\n",
       "      <th>8</th>\n",
       "      <td>2020-01-22</td>\n",
       "      <td>2020-01-22 23:52:59</td>\n",
       "      <td>57192</td>\n",
       "      <td>Bilgisayar Yazılım Mağazaları</td>\n",
       "      <td>305.982</td>\n",
       "    </tr>\n",
       "    <tr>\n",
       "      <th>9</th>\n",
       "      <td>2020-01-22</td>\n",
       "      <td>2020-01-22 23:52:51</td>\n",
       "      <td>57192</td>\n",
       "      <td>Bilgisayar Yazılım Mağazaları</td>\n",
       "      <td>155.592</td>\n",
       "    </tr>\n",
       "  </tbody>\n",
       "</table>\n",
       "</div>"
      ],
      "text/plain": [
       "    trans_day    transaction_date  merchant_id                       category  \\\n",
       "0  2020-01-22 2020-01-22 23:58:49        57192  Bilgisayar Yazılım Mağazaları   \n",
       "1  2020-01-22 2020-01-22 23:58:37        57192  Bilgisayar Yazılım Mağazaları   \n",
       "2  2020-01-22 2020-01-22 23:58:29        57192  Bilgisayar Yazılım Mağazaları   \n",
       "3  2020-01-22 2020-01-22 23:57:17        57192  Bilgisayar Yazılım Mağazaları   \n",
       "4  2020-01-22 2020-01-22 23:56:54        57192  Bilgisayar Yazılım Mağazaları   \n",
       "5  2020-01-22 2020-01-22 23:56:00        57192  Bilgisayar Yazılım Mağazaları   \n",
       "6  2020-01-22 2020-01-22 23:55:05        57192  Bilgisayar Yazılım Mağazaları   \n",
       "7  2020-01-22 2020-01-22 23:54:52        57192  Bilgisayar Yazılım Mağazaları   \n",
       "8  2020-01-22 2020-01-22 23:52:59        57192  Bilgisayar Yazılım Mağazaları   \n",
       "9  2020-01-22 2020-01-22 23:52:51        57192  Bilgisayar Yazılım Mağazaları   \n",
       "\n",
       "   total_paid_price  \n",
       "0            13.446  \n",
       "1           247.320  \n",
       "2            77.148  \n",
       "3           269.244  \n",
       "4            16.182  \n",
       "5            86.220  \n",
       "6           322.092  \n",
       "7           340.758  \n",
       "8           305.982  \n",
       "9           155.592  "
      ]
     },
     "execution_count": 110,
     "metadata": {},
     "output_type": "execute_result"
    }
   ],
   "source": [
    "cassandra_df.filter(cassandra_df.category == \"Bilgisayar Yazılım Mağazaları\").limit(10).toPandas()"
   ]
  },
  {
   "cell_type": "code",
   "execution_count": 115,
   "metadata": {},
   "outputs": [
    {
     "name": "stdout",
     "output_type": "stream",
     "text": [
      "+----------+-------------------+-----------+--------------------+----------------+\n",
      "| trans_day|   transaction_date|merchant_id|            category|total_paid_price|\n",
      "+----------+-------------------+-----------+--------------------+----------------+\n",
      "|2019-12-29|2019-12-29 23:59:44|      57192|Bilgisayar Yazılı...|         384.768|\n",
      "|2019-12-29|2019-12-29 23:58:42|      57192|Bilgisayar Yazılı...|          54.036|\n",
      "|2019-12-29|2019-12-29 23:56:37|      57192|Bilgisayar Yazılı...|          96.192|\n",
      "|2019-12-29|2019-12-29 23:55:40|      57192|Bilgisayar Yazılı...|          54.036|\n",
      "|2019-12-29|2019-12-29 23:54:43|      57192|Bilgisayar Yazılı...|           25.47|\n",
      "+----------+-------------------+-----------+--------------------+----------------+\n",
      "only showing top 5 rows\n",
      "\n"
     ]
    }
   ],
   "source": [
    "spark.sql(\"\"\"\n",
    "\n",
    "SELECT * FROM docker3nodescluster.iyzico.iyz_cas WHERE category = 'Bilgisayar Yazılım Mağazaları' \n",
    "\"\"\").show(5)"
   ]
  },
  {
   "cell_type": "code",
   "execution_count": 118,
   "metadata": {},
   "outputs": [
    {
     "name": "stdout",
     "output_type": "stream",
     "text": [
      "1133405\n",
      "0:00:20.199053\n"
     ]
    }
   ],
   "source": [
    "start_time = datetime.now()\n",
    "\n",
    "cassandra_df.filter(cassandra_df.category == \"Bilgisayar Yazılım Mağazaları\").count()\n",
    "\n",
    "end_time = datetime.now()\n",
    "\n",
    "print(cassandra_df.filter(cassandra_df.category == \"Bilgisayar Yazılım Mağazaları\").count())\n",
    "print(end_time - start_time)"
   ]
  },
  {
   "cell_type": "code",
   "execution_count": 117,
   "metadata": {},
   "outputs": [
    {
     "name": "stdout",
     "output_type": "stream",
     "text": [
      "1133405\n",
      "0:00:19.324734\n"
     ]
    }
   ],
   "source": [
    "sorgu = spark.sql(\"\"\"\n",
    "\n",
    "SELECT * FROM docker3nodescluster.iyzico.iyz_cas WHERE category = 'Bilgisayar Yazılım Mağazaları' \n",
    "\"\"\")\n",
    "\n",
    "start_time = datetime.now()\n",
    "\n",
    "print(sorgu.count())\n",
    "\n",
    "end_time = datetime.now()\n",
    "print(end_time - start_time)"
   ]
  },
  {
   "cell_type": "code",
   "execution_count": null,
   "metadata": {},
   "outputs": [],
   "source": []
  },
  {
   "cell_type": "code",
   "execution_count": null,
   "metadata": {},
   "outputs": [],
   "source": []
  },
  {
   "cell_type": "code",
   "execution_count": null,
   "metadata": {},
   "outputs": [],
   "source": []
  },
  {
   "cell_type": "code",
   "execution_count": null,
   "metadata": {},
   "outputs": [],
   "source": []
  }
 ],
 "metadata": {
  "kernelspec": {
   "display_name": "venvspark",
   "language": "python",
   "name": "venvspark"
  },
  "language_info": {
   "codemirror_mode": {
    "name": "ipython",
    "version": 3
   },
   "file_extension": ".py",
   "mimetype": "text/x-python",
   "name": "python",
   "nbconvert_exporter": "python",
   "pygments_lexer": "ipython3",
   "version": "3.6.8"
  }
 },
 "nbformat": 4,
 "nbformat_minor": 4
}